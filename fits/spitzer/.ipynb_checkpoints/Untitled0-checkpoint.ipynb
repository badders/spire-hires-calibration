{
 "metadata": {
  "name": "",
  "signature": "sha256:6f52a447f61de22bc86eae7ac14d7e4567a915c55b69f6fc13bb021d09faf5da"
 },
 "nbformat": 3,
 "nbformat_minor": 0,
 "worksheets": [
  {
   "cells": [
    {
     "cell_type": "code",
     "collapsed": false,
     "input": [
      "from astropy.io import fits\n",
      "hdulist = fits.open('m74.fits')"
     ],
     "language": "python",
     "metadata": {},
     "outputs": [],
     "prompt_number": 3
    },
    {
     "cell_type": "code",
     "collapsed": false,
     "input": [
      "import aplpy\n",
      "gc = aplpy.FITSFigure(hdulist)\n",
      "gc.show_greyscale()"
     ],
     "language": "python",
     "metadata": {},
     "outputs": []
    },
    {
     "cell_type": "code",
     "collapsed": false,
     "input": [
      "x = linspace(-pi, pi)\n",
      "plot(x, sin(x))"
     ],
     "language": "python",
     "metadata": {},
     "outputs": []
    }
   ],
   "metadata": {}
  }
 ]
}